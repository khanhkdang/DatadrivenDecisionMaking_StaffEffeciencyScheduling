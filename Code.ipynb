{
 "cells": [
  {
   "cell_type": "code",
   "execution_count": 1,
   "id": "afraid-gospel",
   "metadata": {},
   "outputs": [],
   "source": [
    "import numpy as np\n",
    "import pandas as pd"
   ]
  },
  {
   "cell_type": "code",
   "execution_count": 2,
   "id": "prime-discretion",
   "metadata": {},
   "outputs": [],
   "source": [
    "import matplotlib.pyplot as plt\n",
    "import seaborn as sns\n",
    "from plotnine import *\n",
    "%matplotlib inline"
   ]
  },
  {
   "cell_type": "code",
   "execution_count": 3,
   "id": "intelligent-bride",
   "metadata": {},
   "outputs": [],
   "source": [
    "df = pd.read_csv('AdviseInvestData.csv')"
   ]
  },
  {
   "cell_type": "code",
   "execution_count": 4,
   "id": "straight-nation",
   "metadata": {},
   "outputs": [
    {
     "data": {
      "text/html": [
       "<div>\n",
       "<style scoped>\n",
       "    .dataframe tbody tr th:only-of-type {\n",
       "        vertical-align: middle;\n",
       "    }\n",
       "\n",
       "    .dataframe tbody tr th {\n",
       "        vertical-align: top;\n",
       "    }\n",
       "\n",
       "    .dataframe thead th {\n",
       "        text-align: right;\n",
       "    }\n",
       "</style>\n",
       "<table border=\"1\" class=\"dataframe\">\n",
       "  <thead>\n",
       "    <tr style=\"text-align: right;\">\n",
       "      <th></th>\n",
       "      <th>OBS.</th>\n",
       "      <th>ANSWERED</th>\n",
       "      <th>INCOME</th>\n",
       "      <th>FEMALE</th>\n",
       "      <th>AGE</th>\n",
       "      <th>JOB</th>\n",
       "      <th>NUM_DEPENDENTS</th>\n",
       "      <th>RENT</th>\n",
       "      <th>OWN_RES</th>\n",
       "      <th>NEW_CAR</th>\n",
       "      <th>CHK_ACCT</th>\n",
       "      <th>SAV_ACCT</th>\n",
       "      <th>NUM_ACCTS</th>\n",
       "      <th>MOBILE</th>\n",
       "      <th>PRODUCT</th>\n",
       "    </tr>\n",
       "  </thead>\n",
       "  <tbody>\n",
       "    <tr>\n",
       "      <th>0</th>\n",
       "      <td>133</td>\n",
       "      <td>1</td>\n",
       "      <td>13520</td>\n",
       "      <td>0</td>\n",
       "      <td>23</td>\n",
       "      <td>0</td>\n",
       "      <td>1</td>\n",
       "      <td>1</td>\n",
       "      <td>0</td>\n",
       "      <td>0</td>\n",
       "      <td>0</td>\n",
       "      <td>2</td>\n",
       "      <td>0</td>\n",
       "      <td>1</td>\n",
       "      <td>2</td>\n",
       "    </tr>\n",
       "    <tr>\n",
       "      <th>1</th>\n",
       "      <td>1509</td>\n",
       "      <td>0</td>\n",
       "      <td>14780</td>\n",
       "      <td>0</td>\n",
       "      <td>22</td>\n",
       "      <td>2</td>\n",
       "      <td>1</td>\n",
       "      <td>0</td>\n",
       "      <td>1</td>\n",
       "      <td>0</td>\n",
       "      <td>3</td>\n",
       "      <td>0</td>\n",
       "      <td>3</td>\n",
       "      <td>0</td>\n",
       "      <td>0</td>\n",
       "    </tr>\n",
       "    <tr>\n",
       "      <th>2</th>\n",
       "      <td>1530</td>\n",
       "      <td>1</td>\n",
       "      <td>37570</td>\n",
       "      <td>0</td>\n",
       "      <td>62</td>\n",
       "      <td>2</td>\n",
       "      <td>1</td>\n",
       "      <td>0</td>\n",
       "      <td>0</td>\n",
       "      <td>1</td>\n",
       "      <td>3</td>\n",
       "      <td>0</td>\n",
       "      <td>4</td>\n",
       "      <td>0</td>\n",
       "      <td>4</td>\n",
       "    </tr>\n",
       "    <tr>\n",
       "      <th>3</th>\n",
       "      <td>1886</td>\n",
       "      <td>0</td>\n",
       "      <td>12450</td>\n",
       "      <td>0</td>\n",
       "      <td>33</td>\n",
       "      <td>2</td>\n",
       "      <td>1</td>\n",
       "      <td>0</td>\n",
       "      <td>1</td>\n",
       "      <td>0</td>\n",
       "      <td>1</td>\n",
       "      <td>0</td>\n",
       "      <td>2</td>\n",
       "      <td>0</td>\n",
       "      <td>0</td>\n",
       "    </tr>\n",
       "    <tr>\n",
       "      <th>4</th>\n",
       "      <td>2463</td>\n",
       "      <td>0</td>\n",
       "      <td>12400</td>\n",
       "      <td>0</td>\n",
       "      <td>48</td>\n",
       "      <td>1</td>\n",
       "      <td>2</td>\n",
       "      <td>0</td>\n",
       "      <td>0</td>\n",
       "      <td>1</td>\n",
       "      <td>2</td>\n",
       "      <td>1</td>\n",
       "      <td>4</td>\n",
       "      <td>0</td>\n",
       "      <td>0</td>\n",
       "    </tr>\n",
       "    <tr>\n",
       "      <th>...</th>\n",
       "      <td>...</td>\n",
       "      <td>...</td>\n",
       "      <td>...</td>\n",
       "      <td>...</td>\n",
       "      <td>...</td>\n",
       "      <td>...</td>\n",
       "      <td>...</td>\n",
       "      <td>...</td>\n",
       "      <td>...</td>\n",
       "      <td>...</td>\n",
       "      <td>...</td>\n",
       "      <td>...</td>\n",
       "      <td>...</td>\n",
       "      <td>...</td>\n",
       "      <td>...</td>\n",
       "    </tr>\n",
       "    <tr>\n",
       "      <th>29499</th>\n",
       "      <td>9998377</td>\n",
       "      <td>1</td>\n",
       "      <td>11630</td>\n",
       "      <td>0</td>\n",
       "      <td>44</td>\n",
       "      <td>2</td>\n",
       "      <td>1</td>\n",
       "      <td>0</td>\n",
       "      <td>1</td>\n",
       "      <td>1</td>\n",
       "      <td>3</td>\n",
       "      <td>2</td>\n",
       "      <td>2</td>\n",
       "      <td>0</td>\n",
       "      <td>4</td>\n",
       "    </tr>\n",
       "    <tr>\n",
       "      <th>29500</th>\n",
       "      <td>9998970</td>\n",
       "      <td>0</td>\n",
       "      <td>28640</td>\n",
       "      <td>0</td>\n",
       "      <td>34</td>\n",
       "      <td>1</td>\n",
       "      <td>2</td>\n",
       "      <td>0</td>\n",
       "      <td>1</td>\n",
       "      <td>0</td>\n",
       "      <td>2</td>\n",
       "      <td>0</td>\n",
       "      <td>2</td>\n",
       "      <td>0</td>\n",
       "      <td>0</td>\n",
       "    </tr>\n",
       "    <tr>\n",
       "      <th>29501</th>\n",
       "      <td>9999108</td>\n",
       "      <td>1</td>\n",
       "      <td>34480</td>\n",
       "      <td>0</td>\n",
       "      <td>74</td>\n",
       "      <td>1</td>\n",
       "      <td>1</td>\n",
       "      <td>0</td>\n",
       "      <td>1</td>\n",
       "      <td>0</td>\n",
       "      <td>3</td>\n",
       "      <td>0</td>\n",
       "      <td>3</td>\n",
       "      <td>0</td>\n",
       "      <td>4</td>\n",
       "    </tr>\n",
       "    <tr>\n",
       "      <th>29502</th>\n",
       "      <td>9999701</td>\n",
       "      <td>1</td>\n",
       "      <td>10550</td>\n",
       "      <td>0</td>\n",
       "      <td>30</td>\n",
       "      <td>2</td>\n",
       "      <td>1</td>\n",
       "      <td>0</td>\n",
       "      <td>1</td>\n",
       "      <td>1</td>\n",
       "      <td>3</td>\n",
       "      <td>0</td>\n",
       "      <td>1</td>\n",
       "      <td>0</td>\n",
       "      <td>1</td>\n",
       "    </tr>\n",
       "    <tr>\n",
       "      <th>29503</th>\n",
       "      <td>9999738</td>\n",
       "      <td>0</td>\n",
       "      <td>125790</td>\n",
       "      <td>0</td>\n",
       "      <td>44</td>\n",
       "      <td>3</td>\n",
       "      <td>1</td>\n",
       "      <td>0</td>\n",
       "      <td>0</td>\n",
       "      <td>0</td>\n",
       "      <td>1</td>\n",
       "      <td>0</td>\n",
       "      <td>4</td>\n",
       "      <td>1</td>\n",
       "      <td>0</td>\n",
       "    </tr>\n",
       "  </tbody>\n",
       "</table>\n",
       "<p>29504 rows × 15 columns</p>\n",
       "</div>"
      ],
      "text/plain": [
       "          OBS.  ANSWERED  INCOME  FEMALE  AGE  JOB  NUM_DEPENDENTS  RENT  \\\n",
       "0          133         1   13520       0   23    0               1     1   \n",
       "1         1509         0   14780       0   22    2               1     0   \n",
       "2         1530         1   37570       0   62    2               1     0   \n",
       "3         1886         0   12450       0   33    2               1     0   \n",
       "4         2463         0   12400       0   48    1               2     0   \n",
       "...        ...       ...     ...     ...  ...  ...             ...   ...   \n",
       "29499  9998377         1   11630       0   44    2               1     0   \n",
       "29500  9998970         0   28640       0   34    1               2     0   \n",
       "29501  9999108         1   34480       0   74    1               1     0   \n",
       "29502  9999701         1   10550       0   30    2               1     0   \n",
       "29503  9999738         0  125790       0   44    3               1     0   \n",
       "\n",
       "       OWN_RES  NEW_CAR  CHK_ACCT  SAV_ACCT  NUM_ACCTS  MOBILE  PRODUCT  \n",
       "0            0        0         0         2          0       1        2  \n",
       "1            1        0         3         0          3       0        0  \n",
       "2            0        1         3         0          4       0        4  \n",
       "3            1        0         1         0          2       0        0  \n",
       "4            0        1         2         1          4       0        0  \n",
       "...        ...      ...       ...       ...        ...     ...      ...  \n",
       "29499        1        1         3         2          2       0        4  \n",
       "29500        1        0         2         0          2       0        0  \n",
       "29501        1        0         3         0          3       0        4  \n",
       "29502        1        1         3         0          1       0        1  \n",
       "29503        0        0         1         0          4       1        0  \n",
       "\n",
       "[29504 rows x 15 columns]"
      ]
     },
     "execution_count": 4,
     "metadata": {},
     "output_type": "execute_result"
    }
   ],
   "source": [
    "df"
   ]
  },
  {
   "cell_type": "code",
   "execution_count": 5,
   "id": "narrative-beads",
   "metadata": {},
   "outputs": [
    {
     "name": "stdout",
     "output_type": "stream",
     "text": [
      "<class 'pandas.core.frame.DataFrame'>\n",
      "RangeIndex: 29504 entries, 0 to 29503\n",
      "Data columns (total 15 columns):\n",
      " #   Column          Non-Null Count  Dtype\n",
      "---  ------          --------------  -----\n",
      " 0   OBS.            29504 non-null  int64\n",
      " 1   ANSWERED        29504 non-null  int64\n",
      " 2   INCOME          29504 non-null  int64\n",
      " 3   FEMALE          29504 non-null  int64\n",
      " 4   AGE             29504 non-null  int64\n",
      " 5   JOB             29504 non-null  int64\n",
      " 6   NUM_DEPENDENTS  29504 non-null  int64\n",
      " 7   RENT            29504 non-null  int64\n",
      " 8   OWN_RES         29504 non-null  int64\n",
      " 9   NEW_CAR         29504 non-null  int64\n",
      " 10  CHK_ACCT        29504 non-null  int64\n",
      " 11  SAV_ACCT        29504 non-null  int64\n",
      " 12  NUM_ACCTS       29504 non-null  int64\n",
      " 13  MOBILE          29504 non-null  int64\n",
      " 14  PRODUCT         29504 non-null  int64\n",
      "dtypes: int64(15)\n",
      "memory usage: 3.4 MB\n"
     ]
    }
   ],
   "source": [
    "df.info()"
   ]
  },
  {
   "cell_type": "markdown",
   "id": "superb-spread",
   "metadata": {},
   "source": [
    "# Descriptive analytics"
   ]
  },
  {
   "cell_type": "markdown",
   "id": "conservative-campbell",
   "metadata": {},
   "source": [
    "Groupping 3 types of customer: who didn't answer phone, who answered but didn't buy the product, who answered and buy product"
   ]
  },
  {
   "cell_type": "code",
   "execution_count": 6,
   "id": "regulated-utility",
   "metadata": {},
   "outputs": [],
   "source": [
    "def product_group(x):\n",
    "    if x == 0:\n",
    "        return 'not answer'\n",
    "    elif x==1:\n",
    "        return 'answered but not purchase'\n",
    "    else:\n",
    "        return 'answered and purchased'"
   ]
  },
  {
   "cell_type": "code",
   "execution_count": 7,
   "id": "fixed-official",
   "metadata": {},
   "outputs": [],
   "source": [
    "df['purchased'] = df['PRODUCT'].apply(lambda x: product_group(x))"
   ]
  },
  {
   "cell_type": "code",
   "execution_count": 8,
   "id": "coordinated-color",
   "metadata": {},
   "outputs": [
    {
     "data": {
      "text/html": [
       "<div>\n",
       "<style scoped>\n",
       "    .dataframe tbody tr th:only-of-type {\n",
       "        vertical-align: middle;\n",
       "    }\n",
       "\n",
       "    .dataframe tbody tr th {\n",
       "        vertical-align: top;\n",
       "    }\n",
       "\n",
       "    .dataframe thead th {\n",
       "        text-align: right;\n",
       "    }\n",
       "</style>\n",
       "<table border=\"1\" class=\"dataframe\">\n",
       "  <thead>\n",
       "    <tr style=\"text-align: right;\">\n",
       "      <th></th>\n",
       "      <th>OBS.</th>\n",
       "      <th>ANSWERED</th>\n",
       "      <th>INCOME</th>\n",
       "      <th>FEMALE</th>\n",
       "      <th>AGE</th>\n",
       "      <th>JOB</th>\n",
       "      <th>NUM_DEPENDENTS</th>\n",
       "      <th>RENT</th>\n",
       "      <th>OWN_RES</th>\n",
       "      <th>NEW_CAR</th>\n",
       "      <th>CHK_ACCT</th>\n",
       "      <th>SAV_ACCT</th>\n",
       "      <th>NUM_ACCTS</th>\n",
       "      <th>MOBILE</th>\n",
       "      <th>PRODUCT</th>\n",
       "      <th>purchased</th>\n",
       "    </tr>\n",
       "  </thead>\n",
       "  <tbody>\n",
       "    <tr>\n",
       "      <th>0</th>\n",
       "      <td>133</td>\n",
       "      <td>1</td>\n",
       "      <td>13520</td>\n",
       "      <td>0</td>\n",
       "      <td>23</td>\n",
       "      <td>0</td>\n",
       "      <td>1</td>\n",
       "      <td>1</td>\n",
       "      <td>0</td>\n",
       "      <td>0</td>\n",
       "      <td>0</td>\n",
       "      <td>2</td>\n",
       "      <td>0</td>\n",
       "      <td>1</td>\n",
       "      <td>2</td>\n",
       "      <td>answered and purchased</td>\n",
       "    </tr>\n",
       "    <tr>\n",
       "      <th>1</th>\n",
       "      <td>1509</td>\n",
       "      <td>0</td>\n",
       "      <td>14780</td>\n",
       "      <td>0</td>\n",
       "      <td>22</td>\n",
       "      <td>2</td>\n",
       "      <td>1</td>\n",
       "      <td>0</td>\n",
       "      <td>1</td>\n",
       "      <td>0</td>\n",
       "      <td>3</td>\n",
       "      <td>0</td>\n",
       "      <td>3</td>\n",
       "      <td>0</td>\n",
       "      <td>0</td>\n",
       "      <td>not answer</td>\n",
       "    </tr>\n",
       "    <tr>\n",
       "      <th>2</th>\n",
       "      <td>1530</td>\n",
       "      <td>1</td>\n",
       "      <td>37570</td>\n",
       "      <td>0</td>\n",
       "      <td>62</td>\n",
       "      <td>2</td>\n",
       "      <td>1</td>\n",
       "      <td>0</td>\n",
       "      <td>0</td>\n",
       "      <td>1</td>\n",
       "      <td>3</td>\n",
       "      <td>0</td>\n",
       "      <td>4</td>\n",
       "      <td>0</td>\n",
       "      <td>4</td>\n",
       "      <td>answered and purchased</td>\n",
       "    </tr>\n",
       "    <tr>\n",
       "      <th>3</th>\n",
       "      <td>1886</td>\n",
       "      <td>0</td>\n",
       "      <td>12450</td>\n",
       "      <td>0</td>\n",
       "      <td>33</td>\n",
       "      <td>2</td>\n",
       "      <td>1</td>\n",
       "      <td>0</td>\n",
       "      <td>1</td>\n",
       "      <td>0</td>\n",
       "      <td>1</td>\n",
       "      <td>0</td>\n",
       "      <td>2</td>\n",
       "      <td>0</td>\n",
       "      <td>0</td>\n",
       "      <td>not answer</td>\n",
       "    </tr>\n",
       "    <tr>\n",
       "      <th>4</th>\n",
       "      <td>2463</td>\n",
       "      <td>0</td>\n",
       "      <td>12400</td>\n",
       "      <td>0</td>\n",
       "      <td>48</td>\n",
       "      <td>1</td>\n",
       "      <td>2</td>\n",
       "      <td>0</td>\n",
       "      <td>0</td>\n",
       "      <td>1</td>\n",
       "      <td>2</td>\n",
       "      <td>1</td>\n",
       "      <td>4</td>\n",
       "      <td>0</td>\n",
       "      <td>0</td>\n",
       "      <td>not answer</td>\n",
       "    </tr>\n",
       "    <tr>\n",
       "      <th>...</th>\n",
       "      <td>...</td>\n",
       "      <td>...</td>\n",
       "      <td>...</td>\n",
       "      <td>...</td>\n",
       "      <td>...</td>\n",
       "      <td>...</td>\n",
       "      <td>...</td>\n",
       "      <td>...</td>\n",
       "      <td>...</td>\n",
       "      <td>...</td>\n",
       "      <td>...</td>\n",
       "      <td>...</td>\n",
       "      <td>...</td>\n",
       "      <td>...</td>\n",
       "      <td>...</td>\n",
       "      <td>...</td>\n",
       "    </tr>\n",
       "    <tr>\n",
       "      <th>29499</th>\n",
       "      <td>9998377</td>\n",
       "      <td>1</td>\n",
       "      <td>11630</td>\n",
       "      <td>0</td>\n",
       "      <td>44</td>\n",
       "      <td>2</td>\n",
       "      <td>1</td>\n",
       "      <td>0</td>\n",
       "      <td>1</td>\n",
       "      <td>1</td>\n",
       "      <td>3</td>\n",
       "      <td>2</td>\n",
       "      <td>2</td>\n",
       "      <td>0</td>\n",
       "      <td>4</td>\n",
       "      <td>answered and purchased</td>\n",
       "    </tr>\n",
       "    <tr>\n",
       "      <th>29500</th>\n",
       "      <td>9998970</td>\n",
       "      <td>0</td>\n",
       "      <td>28640</td>\n",
       "      <td>0</td>\n",
       "      <td>34</td>\n",
       "      <td>1</td>\n",
       "      <td>2</td>\n",
       "      <td>0</td>\n",
       "      <td>1</td>\n",
       "      <td>0</td>\n",
       "      <td>2</td>\n",
       "      <td>0</td>\n",
       "      <td>2</td>\n",
       "      <td>0</td>\n",
       "      <td>0</td>\n",
       "      <td>not answer</td>\n",
       "    </tr>\n",
       "    <tr>\n",
       "      <th>29501</th>\n",
       "      <td>9999108</td>\n",
       "      <td>1</td>\n",
       "      <td>34480</td>\n",
       "      <td>0</td>\n",
       "      <td>74</td>\n",
       "      <td>1</td>\n",
       "      <td>1</td>\n",
       "      <td>0</td>\n",
       "      <td>1</td>\n",
       "      <td>0</td>\n",
       "      <td>3</td>\n",
       "      <td>0</td>\n",
       "      <td>3</td>\n",
       "      <td>0</td>\n",
       "      <td>4</td>\n",
       "      <td>answered and purchased</td>\n",
       "    </tr>\n",
       "    <tr>\n",
       "      <th>29502</th>\n",
       "      <td>9999701</td>\n",
       "      <td>1</td>\n",
       "      <td>10550</td>\n",
       "      <td>0</td>\n",
       "      <td>30</td>\n",
       "      <td>2</td>\n",
       "      <td>1</td>\n",
       "      <td>0</td>\n",
       "      <td>1</td>\n",
       "      <td>1</td>\n",
       "      <td>3</td>\n",
       "      <td>0</td>\n",
       "      <td>1</td>\n",
       "      <td>0</td>\n",
       "      <td>1</td>\n",
       "      <td>answered but not purchase</td>\n",
       "    </tr>\n",
       "    <tr>\n",
       "      <th>29503</th>\n",
       "      <td>9999738</td>\n",
       "      <td>0</td>\n",
       "      <td>125790</td>\n",
       "      <td>0</td>\n",
       "      <td>44</td>\n",
       "      <td>3</td>\n",
       "      <td>1</td>\n",
       "      <td>0</td>\n",
       "      <td>0</td>\n",
       "      <td>0</td>\n",
       "      <td>1</td>\n",
       "      <td>0</td>\n",
       "      <td>4</td>\n",
       "      <td>1</td>\n",
       "      <td>0</td>\n",
       "      <td>not answer</td>\n",
       "    </tr>\n",
       "  </tbody>\n",
       "</table>\n",
       "<p>29504 rows × 16 columns</p>\n",
       "</div>"
      ],
      "text/plain": [
       "          OBS.  ANSWERED  INCOME  FEMALE  AGE  JOB  NUM_DEPENDENTS  RENT  \\\n",
       "0          133         1   13520       0   23    0               1     1   \n",
       "1         1509         0   14780       0   22    2               1     0   \n",
       "2         1530         1   37570       0   62    2               1     0   \n",
       "3         1886         0   12450       0   33    2               1     0   \n",
       "4         2463         0   12400       0   48    1               2     0   \n",
       "...        ...       ...     ...     ...  ...  ...             ...   ...   \n",
       "29499  9998377         1   11630       0   44    2               1     0   \n",
       "29500  9998970         0   28640       0   34    1               2     0   \n",
       "29501  9999108         1   34480       0   74    1               1     0   \n",
       "29502  9999701         1   10550       0   30    2               1     0   \n",
       "29503  9999738         0  125790       0   44    3               1     0   \n",
       "\n",
       "       OWN_RES  NEW_CAR  CHK_ACCT  SAV_ACCT  NUM_ACCTS  MOBILE  PRODUCT  \\\n",
       "0            0        0         0         2          0       1        2   \n",
       "1            1        0         3         0          3       0        0   \n",
       "2            0        1         3         0          4       0        4   \n",
       "3            1        0         1         0          2       0        0   \n",
       "4            0        1         2         1          4       0        0   \n",
       "...        ...      ...       ...       ...        ...     ...      ...   \n",
       "29499        1        1         3         2          2       0        4   \n",
       "29500        1        0         2         0          2       0        0   \n",
       "29501        1        0         3         0          3       0        4   \n",
       "29502        1        1         3         0          1       0        1   \n",
       "29503        0        0         1         0          4       1        0   \n",
       "\n",
       "                       purchased  \n",
       "0         answered and purchased  \n",
       "1                     not answer  \n",
       "2         answered and purchased  \n",
       "3                     not answer  \n",
       "4                     not answer  \n",
       "...                          ...  \n",
       "29499     answered and purchased  \n",
       "29500                 not answer  \n",
       "29501     answered and purchased  \n",
       "29502  answered but not purchase  \n",
       "29503                 not answer  \n",
       "\n",
       "[29504 rows x 16 columns]"
      ]
     },
     "execution_count": 8,
     "metadata": {},
     "output_type": "execute_result"
    }
   ],
   "source": [
    "df"
   ]
  },
  {
   "cell_type": "code",
   "execution_count": 9,
   "id": "amateur-apartment",
   "metadata": {},
   "outputs": [
    {
     "data": {
      "text/plain": [
       "Text(0.5, 0, ' ')"
      ]
     },
     "execution_count": 9,
     "metadata": {},
     "output_type": "execute_result"
    },
    {
     "data": {
      "image/png": "[encoded data removed]",
      "text/plain": [
       "<Figure size 864x432 with 1 Axes>"
      ]
     },
     "metadata": {},
     "output_type": "display_data"
    }
   ],
   "source": [
    "import warnings\n",
    "warnings.filterwarnings(\"ignore\")\n",
    "sns.set_style('whitegrid')\n",
    "plt.figure(figsize=(12,6))\n",
    "sns.countplot(df['purchased'],palette='magma' )\n",
    "plt.title('Number of customers purchased product')\n",
    "plt.xlabel(' ')"
   ]
  },
  {
   "cell_type": "code",
   "execution_count": 10,
   "id": "rubber-acrobat",
   "metadata": {},
   "outputs": [
    {
     "data": {
      "text/plain": [
       "purchased\n",
       "answered and purchased       46.420824\n",
       "answered but not purchase     8.242950\n",
       "not answer                   45.336226\n",
       "Name: OBS., dtype: float64"
      ]
     },
     "execution_count": 10,
     "metadata": {},
     "output_type": "execute_result"
    }
   ],
   "source": [
    "df.groupby('purchased').count()['OBS.']/df['OBS.'].count()*100"
   ]
  },
  {
   "cell_type": "markdown",
   "id": "rolled-fireplace",
   "metadata": {},
   "source": [
    "- Income, age and product"
   ]
  },
  {
   "cell_type": "code",
   "execution_count": 11,
   "id": "responsible-honor",
   "metadata": {},
   "outputs": [
    {
     "data": {
      "text/plain": [
       "<seaborn.axisgrid.JointGrid at 0x1ef7b9900c8>"
      ]
     },
     "execution_count": 11,
     "metadata": {},
     "output_type": "execute_result"
    },
    {
     "data": {
      "text/plain": [
       "<Figure size 1296x648 with 0 Axes>"
      ]
     },
     "metadata": {},
     "output_type": "display_data"
    },
    {
     "data": {
      "image/png": "[encoded data removed]",
      "text/plain": [
       "<Figure size 432x432 with 3 Axes>"
      ]
     },
     "metadata": {},
     "output_type": "display_data"
    }
   ],
   "source": [
    "sns.set_style('whitegrid')\n",
    "plt.figure(figsize=(18,9))\n",
    "sns.jointplot(x='INCOME', y='AGE', data=df,palette = \"viridis\")"
   ]
  },
  {
   "cell_type": "code",
   "execution_count": 12,
   "id": "paperback-milwaukee",
   "metadata": {},
   "outputs": [
    {
     "data": {
      "text/plain": [
       "count     29504.000000\n",
       "mean      33772.386117\n",
       "std       29372.888155\n",
       "min        2760.000000\n",
       "25%       13550.000000\n",
       "50%       23310.000000\n",
       "75%       41690.000000\n",
       "max      159450.000000\n",
       "Name: INCOME, dtype: float64"
      ]
     },
     "execution_count": 12,
     "metadata": {},
     "output_type": "execute_result"
    }
   ],
   "source": [
    "df['INCOME'].describe()"
   ]
  },
  {
   "cell_type": "code",
   "execution_count": 13,
   "id": "trained-sensitivity",
   "metadata": {},
   "outputs": [
    {
     "data": {
      "text/plain": [
       "count    29504.000000\n",
       "mean        34.770065\n",
       "std         11.355777\n",
       "min         19.000000\n",
       "25%         26.000000\n",
       "50%         32.000000\n",
       "75%         40.000000\n",
       "max         74.000000\n",
       "Name: AGE, dtype: float64"
      ]
     },
     "execution_count": 13,
     "metadata": {},
     "output_type": "execute_result"
    }
   ],
   "source": [
    "df['AGE'].describe()"
   ]
  },
  {
   "cell_type": "markdown",
   "id": "african-giving",
   "metadata": {},
   "source": [
    "- Gender"
   ]
  },
  {
   "cell_type": "code",
   "execution_count": 14,
   "id": "varying-underwear",
   "metadata": {},
   "outputs": [
    {
     "data": {
      "text/plain": [
       "FEMALE\n",
       "0    0.94577\n",
       "1    0.05423\n",
       "Name: OBS., dtype: float64"
      ]
     },
     "execution_count": 14,
     "metadata": {},
     "output_type": "execute_result"
    }
   ],
   "source": [
    "df.groupby('FEMALE').count()['OBS.']/df['OBS.'].count()"
   ]
  },
  {
   "cell_type": "code",
   "execution_count": 15,
   "id": "trained-summer",
   "metadata": {},
   "outputs": [
    {
     "data": {
      "text/plain": [
       "<matplotlib.legend.Legend at 0x1ef7ceab848>"
      ]
     },
     "execution_count": 15,
     "metadata": {},
     "output_type": "execute_result"
    },
    {
     "data": {
      "image/png": "[encoded data removed]",
      "text/plain": [
       "<Figure size 864x288 with 1 Axes>"
      ]
     },
     "metadata": {},
     "output_type": "display_data"
    }
   ],
   "source": [
    "sns.set_style('whitegrid')\n",
    "plt.figure(figsize=(12,4))\n",
    "sns.countplot(df['FEMALE'], hue='purchased', data=df)\n",
    "plt.legend(loc='center left', bbox_to_anchor=(1, 0.9))"
   ]
  },
  {
   "cell_type": "markdown",
   "id": "convertible-decline",
   "metadata": {},
   "source": [
    "- Job type"
   ]
  },
  {
   "cell_type": "code",
   "execution_count": 16,
   "id": "afraid-applicant",
   "metadata": {},
   "outputs": [
    {
     "data": {
      "text/plain": [
       "JOB\n",
       "0    0.026030\n",
       "1    0.184382\n",
       "2    0.637744\n",
       "3    0.151844\n",
       "Name: OBS., dtype: float64"
      ]
     },
     "execution_count": 16,
     "metadata": {},
     "output_type": "execute_result"
    }
   ],
   "source": [
    "df.groupby('JOB').count()['OBS.']/df['OBS.'].count()"
   ]
  },
  {
   "cell_type": "code",
   "execution_count": 17,
   "id": "physical-duncan",
   "metadata": {},
   "outputs": [
    {
     "data": {
      "text/plain": [
       "<matplotlib.legend.Legend at 0x1ef7cf13d88>"
      ]
     },
     "execution_count": 17,
     "metadata": {},
     "output_type": "execute_result"
    },
    {
     "data": {
      "image/png": "[encoded data removed]",
      "text/plain": [
       "<Figure size 432x288 with 1 Axes>"
      ]
     },
     "metadata": {},
     "output_type": "display_data"
    }
   ],
   "source": [
    "sns.countplot(df['JOB'], hue='purchased', data=df)\n",
    "plt.legend(loc='center left', bbox_to_anchor=(1, 0.9))"
   ]
  },
  {
   "cell_type": "markdown",
   "id": "nasty-audience",
   "metadata": {},
   "source": [
    "- Number of dependents"
   ]
  },
  {
   "cell_type": "code",
   "execution_count": 18,
   "id": "realistic-browser",
   "metadata": {},
   "outputs": [
    {
     "data": {
      "text/plain": [
       "NUM_DEPENDENTS\n",
       "1    0.859002\n",
       "2    0.140998\n",
       "Name: OBS., dtype: float64"
      ]
     },
     "execution_count": 18,
     "metadata": {},
     "output_type": "execute_result"
    }
   ],
   "source": [
    "df.groupby('NUM_DEPENDENTS').count()['OBS.']/df['OBS.'].count()"
   ]
  },
  {
   "cell_type": "markdown",
   "id": "short-pharmaceutical",
   "metadata": {},
   "source": [
    "- Rent and own_residence"
   ]
  },
  {
   "cell_type": "code",
   "execution_count": 19,
   "id": "imperial-breeding",
   "metadata": {},
   "outputs": [
    {
     "data": {
      "text/plain": [
       "<matplotlib.legend.Legend at 0x1ef7cf6cfc8>"
      ]
     },
     "execution_count": 19,
     "metadata": {},
     "output_type": "execute_result"
    },
    {
     "data": {
      "image/png": "[encoded data removed]",
      "text/plain": [
       "<Figure size 432x288 with 1 Axes>"
      ]
     },
     "metadata": {},
     "output_type": "display_data"
    }
   ],
   "source": [
    "sns.set_style('whitegrid')\n",
    "sns.countplot(df['RENT'], hue='OWN_RES', data=df)\n",
    "plt.legend(labels = ['non-own','own'],loc='center left', bbox_to_anchor=(1, 0.9))"
   ]
  },
  {
   "cell_type": "markdown",
   "id": "proud-switch",
   "metadata": {},
   "source": [
    "- New_car and product"
   ]
  },
  {
   "cell_type": "code",
   "execution_count": 20,
   "id": "loose-greek",
   "metadata": {},
   "outputs": [
    {
     "data": {
      "text/plain": [
       "NEW_CAR\n",
       "0    0.759219\n",
       "1    0.240781\n",
       "Name: OBS., dtype: float64"
      ]
     },
     "execution_count": 20,
     "metadata": {},
     "output_type": "execute_result"
    }
   ],
   "source": [
    "df.groupby('NEW_CAR').count()['OBS.']/df['OBS.'].count()"
   ]
  },
  {
   "cell_type": "code",
   "execution_count": 21,
   "id": "recreational-maryland",
   "metadata": {},
   "outputs": [
    {
     "data": {
      "text/plain": [
       "<matplotlib.legend.Legend at 0x1ef7d010ac8>"
      ]
     },
     "execution_count": 21,
     "metadata": {},
     "output_type": "execute_result"
    },
    {
     "data": {
      "image/png": "[encoded data removed]",
      "text/plain": [
       "<Figure size 432x288 with 1 Axes>"
      ]
     },
     "metadata": {},
     "output_type": "display_data"
    }
   ],
   "source": [
    "sns.countplot(df['NEW_CAR'], hue='purchased', data=df)\n",
    "plt.legend(loc='center left', bbox_to_anchor=(1, 0.9))"
   ]
  },
  {
   "cell_type": "code",
   "execution_count": 22,
   "id": "executive-absolute",
   "metadata": {},
   "outputs": [
    {
     "data": {
      "text/html": [
       "<div>\n",
       "<style scoped>\n",
       "    .dataframe tbody tr th:only-of-type {\n",
       "        vertical-align: middle;\n",
       "    }\n",
       "\n",
       "    .dataframe tbody tr th {\n",
       "        vertical-align: top;\n",
       "    }\n",
       "\n",
       "    .dataframe thead th {\n",
       "        text-align: right;\n",
       "    }\n",
       "</style>\n",
       "<table border=\"1\" class=\"dataframe\">\n",
       "  <thead>\n",
       "    <tr style=\"text-align: right;\">\n",
       "      <th>NEW_CAR</th>\n",
       "      <th>0</th>\n",
       "      <th>1</th>\n",
       "      <th>%no</th>\n",
       "      <th>%yes</th>\n",
       "    </tr>\n",
       "    <tr>\n",
       "      <th>purchased</th>\n",
       "      <th></th>\n",
       "      <th></th>\n",
       "      <th></th>\n",
       "      <th></th>\n",
       "    </tr>\n",
       "  </thead>\n",
       "  <tbody>\n",
       "    <tr>\n",
       "      <th>answered and purchased</th>\n",
       "      <td>11008</td>\n",
       "      <td>2688</td>\n",
       "      <td>49.142857</td>\n",
       "      <td>37.837838</td>\n",
       "    </tr>\n",
       "    <tr>\n",
       "      <th>answered but not purchase</th>\n",
       "      <td>1984</td>\n",
       "      <td>448</td>\n",
       "      <td>8.857143</td>\n",
       "      <td>6.306306</td>\n",
       "    </tr>\n",
       "    <tr>\n",
       "      <th>not answer</th>\n",
       "      <td>9408</td>\n",
       "      <td>3968</td>\n",
       "      <td>42.000000</td>\n",
       "      <td>55.855856</td>\n",
       "    </tr>\n",
       "  </tbody>\n",
       "</table>\n",
       "</div>"
      ],
      "text/plain": [
       "NEW_CAR                        0     1        %no       %yes\n",
       "purchased                                                   \n",
       "answered and purchased     11008  2688  49.142857  37.837838\n",
       "answered but not purchase   1984   448   8.857143   6.306306\n",
       "not answer                  9408  3968  42.000000  55.855856"
      ]
     },
     "execution_count": 22,
     "metadata": {},
     "output_type": "execute_result"
    }
   ],
   "source": [
    "# The percentage\n",
    "new_car = pd.DataFrame(df.groupby(['purchased','NEW_CAR']).count()['OBS.']).reset_index().pivot_table(values='OBS.', index='purchased',\n",
    "                                                                                                      columns = 'NEW_CAR')\n",
    "new_car['%no'] = new_car[0]/new_car[0].sum()*100\n",
    "new_car['%yes'] = new_car[1]/new_car[1].sum()*100\n",
    "new_car"
   ]
  },
  {
   "cell_type": "markdown",
   "id": "horizontal-prairie",
   "metadata": {},
   "source": [
    "- Checking and saving account"
   ]
  },
  {
   "cell_type": "code",
   "execution_count": 23,
   "id": "cooperative-aquatic",
   "metadata": {},
   "outputs": [
    {
     "data": {
      "text/plain": [
       "CHK_ACCT\n",
       "0    0.288503\n",
       "1    0.303688\n",
       "2    0.058568\n",
       "3    0.349241\n",
       "Name: OBS., dtype: float64"
      ]
     },
     "execution_count": 23,
     "metadata": {},
     "output_type": "execute_result"
    }
   ],
   "source": [
    "df.groupby('CHK_ACCT').count()['OBS.']/df['OBS.'].count()"
   ]
  },
  {
   "cell_type": "code",
   "execution_count": 24,
   "id": "equal-disclaimer",
   "metadata": {},
   "outputs": [
    {
     "data": {
      "text/plain": [
       "SAV_ACCT\n",
       "0    0.637744\n",
       "1    0.108460\n",
       "2    0.058568\n",
       "3    0.049892\n",
       "4    0.145336\n",
       "Name: OBS., dtype: float64"
      ]
     },
     "execution_count": 24,
     "metadata": {},
     "output_type": "execute_result"
    }
   ],
   "source": [
    "df.groupby('SAV_ACCT').count()['OBS.']/df['OBS.'].count()"
   ]
  },
  {
   "cell_type": "code",
   "execution_count": 25,
   "id": "stunning-commission",
   "metadata": {},
   "outputs": [
    {
     "data": {
      "text/plain": [
       "<matplotlib.legend.Legend at 0x1ef7ae96d48>"
      ]
     },
     "execution_count": 25,
     "metadata": {},
     "output_type": "execute_result"
    },
    {
     "data": {
      "image/png": "[encoded data removed]",
      "text/plain": [
       "<Figure size 432x288 with 1 Axes>"
      ]
     },
     "metadata": {},
     "output_type": "display_data"
    }
   ],
   "source": [
    "sns.countplot(df['CHK_ACCT'], hue='SAV_ACCT', data=df)\n",
    "plt.legend(loc='center left', bbox_to_anchor=(1, 0.9))"
   ]
  },
  {
   "cell_type": "markdown",
   "id": "liked-amateur",
   "metadata": {},
   "source": [
    "- Number account"
   ]
  },
  {
   "cell_type": "code",
   "execution_count": 26,
   "id": "sexual-michigan",
   "metadata": {},
   "outputs": [
    {
     "data": {
      "text/plain": [
       "NUM_ACCTS\n",
       "0    0.065076\n",
       "1    0.175705\n",
       "2    0.344902\n",
       "3    0.177874\n",
       "4    0.236443\n",
       "Name: OBS., dtype: float64"
      ]
     },
     "execution_count": 26,
     "metadata": {},
     "output_type": "execute_result"
    }
   ],
   "source": [
    "df.groupby('NUM_ACCTS').count()['OBS.']/df['OBS.'].count()"
   ]
  },
  {
   "cell_type": "code",
   "execution_count": 27,
   "id": "consistent-giant",
   "metadata": {},
   "outputs": [
    {
     "data": {
      "text/plain": [
       "<matplotlib.legend.Legend at 0x1ef7d108888>"
      ]
     },
     "execution_count": 27,
     "metadata": {},
     "output_type": "execute_result"
    },
    {
     "data": {
      "image/png": "[encoded data removed]",
      "text/plain": [
       "<Figure size 432x288 with 1 Axes>"
      ]
     },
     "metadata": {},
     "output_type": "display_data"
    }
   ],
   "source": [
    "sns.countplot(df['NUM_ACCTS'], hue='purchased', data=df)\n",
    "plt.legend(loc='center left', bbox_to_anchor=(1, 0.9))"
   ]
  },
  {
   "cell_type": "code",
   "execution_count": 28,
   "id": "dried-terrain",
   "metadata": {},
   "outputs": [
    {
     "data": {
      "text/html": [
       "<div>\n",
       "<style scoped>\n",
       "    .dataframe tbody tr th:only-of-type {\n",
       "        vertical-align: middle;\n",
       "    }\n",
       "\n",
       "    .dataframe tbody tr th {\n",
       "        vertical-align: top;\n",
       "    }\n",
       "\n",
       "    .dataframe thead th {\n",
       "        text-align: right;\n",
       "    }\n",
       "</style>\n",
       "<table border=\"1\" class=\"dataframe\">\n",
       "  <thead>\n",
       "    <tr style=\"text-align: right;\">\n",
       "      <th>NUM_ACCTS</th>\n",
       "      <th>0</th>\n",
       "      <th>1</th>\n",
       "      <th>2</th>\n",
       "      <th>3</th>\n",
       "      <th>4</th>\n",
       "      <th>%no</th>\n",
       "      <th>%1</th>\n",
       "      <th>%2</th>\n",
       "      <th>%3</th>\n",
       "      <th>%4</th>\n",
       "    </tr>\n",
       "    <tr>\n",
       "      <th>purchased</th>\n",
       "      <th></th>\n",
       "      <th></th>\n",
       "      <th></th>\n",
       "      <th></th>\n",
       "      <th></th>\n",
       "      <th></th>\n",
       "      <th></th>\n",
       "      <th></th>\n",
       "      <th></th>\n",
       "      <th></th>\n",
       "    </tr>\n",
       "  </thead>\n",
       "  <tbody>\n",
       "    <tr>\n",
       "      <th>answered and purchased</th>\n",
       "      <td>768.0</td>\n",
       "      <td>1408.0</td>\n",
       "      <td>4800.0</td>\n",
       "      <td>2624.0</td>\n",
       "      <td>4096.0</td>\n",
       "      <td>40.0</td>\n",
       "      <td>27.160494</td>\n",
       "      <td>47.169811</td>\n",
       "      <td>50.000000</td>\n",
       "      <td>58.715596</td>\n",
       "    </tr>\n",
       "    <tr>\n",
       "      <th>answered but not purchase</th>\n",
       "      <td>NaN</td>\n",
       "      <td>896.0</td>\n",
       "      <td>896.0</td>\n",
       "      <td>512.0</td>\n",
       "      <td>128.0</td>\n",
       "      <td>NaN</td>\n",
       "      <td>17.283951</td>\n",
       "      <td>8.805031</td>\n",
       "      <td>9.756098</td>\n",
       "      <td>1.834862</td>\n",
       "    </tr>\n",
       "    <tr>\n",
       "      <th>not answer</th>\n",
       "      <td>1152.0</td>\n",
       "      <td>2880.0</td>\n",
       "      <td>4480.0</td>\n",
       "      <td>2112.0</td>\n",
       "      <td>2752.0</td>\n",
       "      <td>60.0</td>\n",
       "      <td>55.555556</td>\n",
       "      <td>44.025157</td>\n",
       "      <td>40.243902</td>\n",
       "      <td>39.449541</td>\n",
       "    </tr>\n",
       "  </tbody>\n",
       "</table>\n",
       "</div>"
      ],
      "text/plain": [
       "NUM_ACCTS                       0       1       2       3       4   %no  \\\n",
       "purchased                                                                 \n",
       "answered and purchased      768.0  1408.0  4800.0  2624.0  4096.0  40.0   \n",
       "answered but not purchase     NaN   896.0   896.0   512.0   128.0   NaN   \n",
       "not answer                 1152.0  2880.0  4480.0  2112.0  2752.0  60.0   \n",
       "\n",
       "NUM_ACCTS                         %1         %2         %3         %4  \n",
       "purchased                                                              \n",
       "answered and purchased     27.160494  47.169811  50.000000  58.715596  \n",
       "answered but not purchase  17.283951   8.805031   9.756098   1.834862  \n",
       "not answer                 55.555556  44.025157  40.243902  39.449541  "
      ]
     },
     "execution_count": 28,
     "metadata": {},
     "output_type": "execute_result"
    }
   ],
   "source": [
    "# The percentage\n",
    "num_acc = pd.DataFrame(df.groupby(['purchased','NUM_ACCTS']).count()['OBS.']).reset_index().pivot_table(values='OBS.', index='purchased',\n",
    "                                                                                                          columns = 'NUM_ACCTS')\n",
    "num_acc['%no'] = num_acc[0]/num_acc[0].sum()*100\n",
    "num_acc['%1'] = num_acc[1]/num_acc[1].sum()*100\n",
    "num_acc['%2'] =num_acc[2]/num_acc[2].sum()*100\n",
    "num_acc['%3'] = num_acc[3]/num_acc[3].sum()*100\n",
    "num_acc['%4'] = num_acc[4]/num_acc[4].sum()*100\n",
    "num_acc"
   ]
  },
  {
   "cell_type": "markdown",
   "id": "another-tucson",
   "metadata": {},
   "source": [
    "- Mobile"
   ]
  },
  {
   "cell_type": "code",
   "execution_count": 29,
   "id": "precise-bolivia",
   "metadata": {},
   "outputs": [
    {
     "data": {
      "text/plain": [
       "MOBILE\n",
       "0    0.908894\n",
       "1    0.091106\n",
       "Name: OBS., dtype: float64"
      ]
     },
     "execution_count": 29,
     "metadata": {},
     "output_type": "execute_result"
    }
   ],
   "source": [
    "df.groupby('MOBILE').count()['OBS.']/df['OBS.'].count()"
   ]
  },
  {
   "cell_type": "code",
   "execution_count": 30,
   "id": "packed-sender",
   "metadata": {},
   "outputs": [
    {
     "data": {
      "text/plain": [
       "<matplotlib.legend.Legend at 0x1ef7d1ab4c8>"
      ]
     },
     "execution_count": 30,
     "metadata": {},
     "output_type": "execute_result"
    },
    {
     "data": {
      "image/png": "[encoded data removed]",
      "text/plain": [
       "<Figure size 432x288 with 1 Axes>"
      ]
     },
     "metadata": {},
     "output_type": "display_data"
    }
   ],
   "source": [
    "sns.countplot(df['MOBILE'], hue='purchased', data=df)\n",
    "plt.legend(loc='center left', bbox_to_anchor=(1, 0.9))"
   ]
  },
  {
   "cell_type": "markdown",
   "id": "accurate-soldier",
   "metadata": {},
   "source": [
    "# Diagnostic analysis"
   ]
  },
  {
   "cell_type": "markdown",
   "id": "signed-reference",
   "metadata": {},
   "source": [
    "- Income and product"
   ]
  },
  {
   "cell_type": "code",
   "execution_count": 31,
   "id": "wireless-karaoke",
   "metadata": {},
   "outputs": [
    {
     "data": {
      "text/plain": [
       "Text(0.5, 0, ' ')"
      ]
     },
     "execution_count": 31,
     "metadata": {},
     "output_type": "execute_result"
    },
    {
     "data": {
      "image/png": "[encoded data removed]",
      "text/plain": [
       "<Figure size 864x576 with 1 Axes>"
      ]
     },
     "metadata": {},
     "output_type": "display_data"
    }
   ],
   "source": [
    "# Boxplot of income\n",
    "plt.figure(figsize=(12,8))\n",
    "sns.boxplot(x='purchased', y='INCOME', data=df,  palette='viridis')\n",
    "plt.xlabel(' ')"
   ]
  },
  {
   "cell_type": "markdown",
   "id": "considered-portfolio",
   "metadata": {},
   "source": [
    "- Age and product"
   ]
  },
  {
   "cell_type": "code",
   "execution_count": 32,
   "id": "developed-wednesday",
   "metadata": {},
   "outputs": [
    {
     "data": {
      "text/plain": [
       "Text(0.5, 0, ' ')"
      ]
     },
     "execution_count": 32,
     "metadata": {},
     "output_type": "execute_result"
    },
    {
     "data": {
      "image/png": "[encoded data removed]",
      "text/plain": [
       "<Figure size 864x576 with 1 Axes>"
      ]
     },
     "metadata": {},
     "output_type": "display_data"
    }
   ],
   "source": [
    "# boxplot of age\n",
    "plt.figure(figsize=(12,8))\n",
    "sns.boxplot(x='purchased', y='AGE', data=df,  palette='rocket')\n",
    "plt.xlabel(' ')"
   ]
  },
  {
   "cell_type": "markdown",
   "id": "analyzed-french",
   "metadata": {},
   "source": [
    "- Income, age and gender "
   ]
  },
  {
   "cell_type": "code",
   "execution_count": 33,
   "id": "joined-innocent",
   "metadata": {},
   "outputs": [
    {
     "data": {
      "text/plain": [
       "<seaborn.axisgrid.FacetGrid at 0x1ef7d35b388>"
      ]
     },
     "execution_count": 33,
     "metadata": {},
     "output_type": "execute_result"
    },
    {
     "data": {
      "text/plain": [
       "<Figure size 1296x432 with 0 Axes>"
      ]
     },
     "metadata": {},
     "output_type": "display_data"
    },
    {
     "data": {
      "image/png": "[encoded data removed]",
      "text/plain": [
       "<Figure size 407.875x360 with 1 Axes>"
      ]
     },
     "metadata": {},
     "output_type": "display_data"
    }
   ],
   "source": [
    "plt.figure(figsize=(18,6))\n",
    "sns.lmplot(x='INCOME', y='AGE',data=df, hue='FEMALE' )"
   ]
  },
  {
   "cell_type": "code",
   "execution_count": 34,
   "id": "analyzed-equality",
   "metadata": {},
   "outputs": [
    {
     "data": {
      "text/html": [
       "<div>\n",
       "<style scoped>\n",
       "    .dataframe tbody tr th:only-of-type {\n",
       "        vertical-align: middle;\n",
       "    }\n",
       "\n",
       "    .dataframe tbody tr th {\n",
       "        vertical-align: top;\n",
       "    }\n",
       "\n",
       "    .dataframe thead th {\n",
       "        text-align: right;\n",
       "    }\n",
       "</style>\n",
       "<table border=\"1\" class=\"dataframe\">\n",
       "  <thead>\n",
       "    <tr style=\"text-align: right;\">\n",
       "      <th>FEMALE</th>\n",
       "      <th>0</th>\n",
       "      <th>1</th>\n",
       "      <th>percentage</th>\n",
       "    </tr>\n",
       "    <tr>\n",
       "      <th>purchased</th>\n",
       "      <th></th>\n",
       "      <th></th>\n",
       "      <th></th>\n",
       "    </tr>\n",
       "  </thead>\n",
       "  <tbody>\n",
       "    <tr>\n",
       "      <th>answered and purchased</th>\n",
       "      <td>13120</td>\n",
       "      <td>576</td>\n",
       "      <td>47.018349</td>\n",
       "    </tr>\n",
       "    <tr>\n",
       "      <th>answered but not purchase</th>\n",
       "      <td>2368</td>\n",
       "      <td>64</td>\n",
       "      <td>8.486239</td>\n",
       "    </tr>\n",
       "    <tr>\n",
       "      <th>not answer</th>\n",
       "      <td>12416</td>\n",
       "      <td>960</td>\n",
       "      <td>44.495413</td>\n",
       "    </tr>\n",
       "  </tbody>\n",
       "</table>\n",
       "</div>"
      ],
      "text/plain": [
       "FEMALE                         0    1  percentage\n",
       "purchased                                        \n",
       "answered and purchased     13120  576   47.018349\n",
       "answered but not purchase   2368   64    8.486239\n",
       "not answer                 12416  960   44.495413"
      ]
     },
     "execution_count": 34,
     "metadata": {},
     "output_type": "execute_result"
    }
   ],
   "source": [
    "# the percentage of female\n",
    "female_purchase = pd.DataFrame(df.groupby(['purchased','FEMALE']).count()['OBS.']).reset_index().pivot_table(values='OBS.', index='purchased',\n",
    "                                                                                         columns = 'FEMALE')\n",
    "female_purchase['percentage'] = female_purchase[0]/female_purchase[0].sum()*100\n",
    "female_purchase"
   ]
  },
  {
   "cell_type": "code",
   "execution_count": 35,
   "id": "circular-australian",
   "metadata": {},
   "outputs": [
    {
     "data": {
      "text/html": [
       "<div>\n",
       "<style scoped>\n",
       "    .dataframe tbody tr th:only-of-type {\n",
       "        vertical-align: middle;\n",
       "    }\n",
       "\n",
       "    .dataframe tbody tr th {\n",
       "        vertical-align: top;\n",
       "    }\n",
       "\n",
       "    .dataframe thead th {\n",
       "        text-align: right;\n",
       "    }\n",
       "</style>\n",
       "<table border=\"1\" class=\"dataframe\">\n",
       "  <thead>\n",
       "    <tr style=\"text-align: right;\">\n",
       "      <th>FEMALE</th>\n",
       "      <th>0</th>\n",
       "      <th>1</th>\n",
       "      <th>percentage</th>\n",
       "    </tr>\n",
       "    <tr>\n",
       "      <th>purchased</th>\n",
       "      <th></th>\n",
       "      <th></th>\n",
       "      <th></th>\n",
       "    </tr>\n",
       "  </thead>\n",
       "  <tbody>\n",
       "    <tr>\n",
       "      <th>answered and purchased</th>\n",
       "      <td>13120</td>\n",
       "      <td>576</td>\n",
       "      <td>36.0</td>\n",
       "    </tr>\n",
       "    <tr>\n",
       "      <th>answered but not purchase</th>\n",
       "      <td>2368</td>\n",
       "      <td>64</td>\n",
       "      <td>4.0</td>\n",
       "    </tr>\n",
       "    <tr>\n",
       "      <th>not answer</th>\n",
       "      <td>12416</td>\n",
       "      <td>960</td>\n",
       "      <td>60.0</td>\n",
       "    </tr>\n",
       "  </tbody>\n",
       "</table>\n",
       "</div>"
      ],
      "text/plain": [
       "FEMALE                         0    1  percentage\n",
       "purchased                                        \n",
       "answered and purchased     13120  576        36.0\n",
       "answered but not purchase   2368   64         4.0\n",
       "not answer                 12416  960        60.0"
      ]
     },
     "execution_count": 35,
     "metadata": {},
     "output_type": "execute_result"
    }
   ],
   "source": [
    "# the percentage of male\n",
    "male_purchase = pd.DataFrame(df.groupby(['purchased','FEMALE']).count()['OBS.']).reset_index().pivot_table(values='OBS.', index='purchased',\n",
    "                                                                                         columns = 'FEMALE')\n",
    "male_purchase['percentage'] = male_purchase[1]/female_purchase[1].sum()*100\n",
    "male_purchase"
   ]
  },
  {
   "cell_type": "code",
   "execution_count": 36,
   "id": "fatal-citizen",
   "metadata": {},
   "outputs": [
    {
     "data": {
      "text/html": [
       "<div>\n",
       "<style scoped>\n",
       "    .dataframe tbody tr th:only-of-type {\n",
       "        vertical-align: middle;\n",
       "    }\n",
       "\n",
       "    .dataframe tbody tr th {\n",
       "        vertical-align: top;\n",
       "    }\n",
       "\n",
       "    .dataframe thead th {\n",
       "        text-align: right;\n",
       "    }\n",
       "</style>\n",
       "<table border=\"1\" class=\"dataframe\">\n",
       "  <thead>\n",
       "    <tr style=\"text-align: right;\">\n",
       "      <th></th>\n",
       "      <th>count</th>\n",
       "      <th>mean</th>\n",
       "      <th>std</th>\n",
       "      <th>min</th>\n",
       "      <th>25%</th>\n",
       "      <th>50%</th>\n",
       "      <th>75%</th>\n",
       "      <th>max</th>\n",
       "    </tr>\n",
       "    <tr>\n",
       "      <th>FEMALE</th>\n",
       "      <th></th>\n",
       "      <th></th>\n",
       "      <th></th>\n",
       "      <th></th>\n",
       "      <th></th>\n",
       "      <th></th>\n",
       "      <th></th>\n",
       "      <th></th>\n",
       "    </tr>\n",
       "  </thead>\n",
       "  <tbody>\n",
       "    <tr>\n",
       "      <th>0</th>\n",
       "      <td>27904.0</td>\n",
       "      <td>34.635321</td>\n",
       "      <td>11.482044</td>\n",
       "      <td>19.0</td>\n",
       "      <td>26.0</td>\n",
       "      <td>32.0</td>\n",
       "      <td>40.0</td>\n",
       "      <td>74.0</td>\n",
       "    </tr>\n",
       "    <tr>\n",
       "      <th>1</th>\n",
       "      <td>1600.0</td>\n",
       "      <td>37.120000</td>\n",
       "      <td>8.536460</td>\n",
       "      <td>26.0</td>\n",
       "      <td>31.0</td>\n",
       "      <td>33.0</td>\n",
       "      <td>42.0</td>\n",
       "      <td>61.0</td>\n",
       "    </tr>\n",
       "  </tbody>\n",
       "</table>\n",
       "</div>"
      ],
      "text/plain": [
       "          count       mean        std   min   25%   50%   75%   max\n",
       "FEMALE                                                             \n",
       "0       27904.0  34.635321  11.482044  19.0  26.0  32.0  40.0  74.0\n",
       "1        1600.0  37.120000   8.536460  26.0  31.0  33.0  42.0  61.0"
      ]
     },
     "execution_count": 36,
     "metadata": {},
     "output_type": "execute_result"
    }
   ],
   "source": [
    "df.groupby('FEMALE')['AGE'].describe()"
   ]
  },
  {
   "cell_type": "code",
   "execution_count": 37,
   "id": "affiliated-machinery",
   "metadata": {},
   "outputs": [
    {
     "data": {
      "text/html": [
       "<div>\n",
       "<style scoped>\n",
       "    .dataframe tbody tr th:only-of-type {\n",
       "        vertical-align: middle;\n",
       "    }\n",
       "\n",
       "    .dataframe tbody tr th {\n",
       "        vertical-align: top;\n",
       "    }\n",
       "\n",
       "    .dataframe thead th {\n",
       "        text-align: right;\n",
       "    }\n",
       "</style>\n",
       "<table border=\"1\" class=\"dataframe\">\n",
       "  <thead>\n",
       "    <tr style=\"text-align: right;\">\n",
       "      <th></th>\n",
       "      <th>count</th>\n",
       "      <th>mean</th>\n",
       "      <th>std</th>\n",
       "      <th>min</th>\n",
       "      <th>25%</th>\n",
       "      <th>50%</th>\n",
       "      <th>75%</th>\n",
       "      <th>max</th>\n",
       "    </tr>\n",
       "    <tr>\n",
       "      <th>FEMALE</th>\n",
       "      <th></th>\n",
       "      <th></th>\n",
       "      <th></th>\n",
       "      <th></th>\n",
       "      <th></th>\n",
       "      <th></th>\n",
       "      <th></th>\n",
       "      <th></th>\n",
       "    </tr>\n",
       "  </thead>\n",
       "  <tbody>\n",
       "    <tr>\n",
       "      <th>0</th>\n",
       "      <td>27904.0</td>\n",
       "      <td>33831.353211</td>\n",
       "      <td>29747.460652</td>\n",
       "      <td>2760.0</td>\n",
       "      <td>13422.5</td>\n",
       "      <td>23245.0</td>\n",
       "      <td>42197.5</td>\n",
       "      <td>159450.0</td>\n",
       "    </tr>\n",
       "    <tr>\n",
       "      <th>1</th>\n",
       "      <td>1600.0</td>\n",
       "      <td>32744.000000</td>\n",
       "      <td>21811.768057</td>\n",
       "      <td>12230.0</td>\n",
       "      <td>19350.0</td>\n",
       "      <td>23660.0</td>\n",
       "      <td>39140.0</td>\n",
       "      <td>95720.0</td>\n",
       "    </tr>\n",
       "  </tbody>\n",
       "</table>\n",
       "</div>"
      ],
      "text/plain": [
       "          count          mean           std      min      25%      50%  \\\n",
       "FEMALE                                                                   \n",
       "0       27904.0  33831.353211  29747.460652   2760.0  13422.5  23245.0   \n",
       "1        1600.0  32744.000000  21811.768057  12230.0  19350.0  23660.0   \n",
       "\n",
       "            75%       max  \n",
       "FEMALE                     \n",
       "0       42197.5  159450.0  \n",
       "1       39140.0   95720.0  "
      ]
     },
     "execution_count": 37,
     "metadata": {},
     "output_type": "execute_result"
    }
   ],
   "source": [
    "df.groupby('FEMALE')['INCOME'].describe()"
   ]
  },
  {
   "cell_type": "markdown",
   "id": "assisted-gnome",
   "metadata": {},
   "source": [
    "- Job type"
   ]
  },
  {
   "cell_type": "code",
   "execution_count": 38,
   "id": "marked-sequence",
   "metadata": {},
   "outputs": [
    {
     "data": {
      "text/html": [
       "<div>\n",
       "<style scoped>\n",
       "    .dataframe tbody tr th:only-of-type {\n",
       "        vertical-align: middle;\n",
       "    }\n",
       "\n",
       "    .dataframe tbody tr th {\n",
       "        vertical-align: top;\n",
       "    }\n",
       "\n",
       "    .dataframe thead th {\n",
       "        text-align: right;\n",
       "    }\n",
       "</style>\n",
       "<table border=\"1\" class=\"dataframe\">\n",
       "  <thead>\n",
       "    <tr style=\"text-align: right;\">\n",
       "      <th>JOB</th>\n",
       "      <th>0</th>\n",
       "      <th>1</th>\n",
       "      <th>2</th>\n",
       "      <th>3</th>\n",
       "      <th>%unemployed</th>\n",
       "      <th>%entry</th>\n",
       "      <th>%midle</th>\n",
       "      <th>%management</th>\n",
       "    </tr>\n",
       "    <tr>\n",
       "      <th>purchased</th>\n",
       "      <th></th>\n",
       "      <th></th>\n",
       "      <th></th>\n",
       "      <th></th>\n",
       "      <th></th>\n",
       "      <th></th>\n",
       "      <th></th>\n",
       "      <th></th>\n",
       "    </tr>\n",
       "  </thead>\n",
       "  <tbody>\n",
       "    <tr>\n",
       "      <th>answered and purchased</th>\n",
       "      <td>384.0</td>\n",
       "      <td>2752.0</td>\n",
       "      <td>8960.0</td>\n",
       "      <td>1600.0</td>\n",
       "      <td>50.0</td>\n",
       "      <td>50.588235</td>\n",
       "      <td>47.619048</td>\n",
       "      <td>47.619048</td>\n",
       "    </tr>\n",
       "    <tr>\n",
       "      <th>answered but not purchase</th>\n",
       "      <td>NaN</td>\n",
       "      <td>448.0</td>\n",
       "      <td>1600.0</td>\n",
       "      <td>384.0</td>\n",
       "      <td>NaN</td>\n",
       "      <td>8.235294</td>\n",
       "      <td>8.503401</td>\n",
       "      <td>8.503401</td>\n",
       "    </tr>\n",
       "    <tr>\n",
       "      <th>not answer</th>\n",
       "      <td>384.0</td>\n",
       "      <td>2240.0</td>\n",
       "      <td>8256.0</td>\n",
       "      <td>2496.0</td>\n",
       "      <td>50.0</td>\n",
       "      <td>41.176471</td>\n",
       "      <td>43.877551</td>\n",
       "      <td>43.877551</td>\n",
       "    </tr>\n",
       "  </tbody>\n",
       "</table>\n",
       "</div>"
      ],
      "text/plain": [
       "JOB                            0       1       2       3  %unemployed  \\\n",
       "purchased                                                               \n",
       "answered and purchased     384.0  2752.0  8960.0  1600.0         50.0   \n",
       "answered but not purchase    NaN   448.0  1600.0   384.0          NaN   \n",
       "not answer                 384.0  2240.0  8256.0  2496.0         50.0   \n",
       "\n",
       "JOB                           %entry     %midle  %management  \n",
       "purchased                                                     \n",
       "answered and purchased     50.588235  47.619048    47.619048  \n",
       "answered but not purchase   8.235294   8.503401     8.503401  \n",
       "not answer                 41.176471  43.877551    43.877551  "
      ]
     },
     "execution_count": 38,
     "metadata": {},
     "output_type": "execute_result"
    }
   ],
   "source": [
    "# The percentage of job\n",
    "job = pd.DataFrame(df.groupby(['purchased','JOB']).count()['OBS.']).reset_index().pivot_table(values='OBS.', index='purchased',\n",
    "                                                                                         columns = 'JOB')\n",
    "job['%unemployed'] = job[0]/job[0].sum()*100\n",
    "job['%entry'] = job[1]/job[1].sum()*100\n",
    "job['%midle'] = job[2]/job[2].sum()*100\n",
    "job['%management'] = job[2]/job[2].sum()*100\n",
    "job"
   ]
  },
  {
   "cell_type": "markdown",
   "id": "subject-million",
   "metadata": {},
   "source": [
    "- Number of dependents"
   ]
  },
  {
   "cell_type": "code",
   "execution_count": 39,
   "id": "vital-wichita",
   "metadata": {},
   "outputs": [
    {
     "data": {
      "text/plain": [
       "<matplotlib.legend.Legend at 0x1ef7cf9af88>"
      ]
     },
     "execution_count": 39,
     "metadata": {},
     "output_type": "execute_result"
    },
    {
     "data": {
      "image/png": "[encoded data removed]",
      "text/plain": [
       "<Figure size 432x288 with 1 Axes>"
      ]
     },
     "metadata": {},
     "output_type": "display_data"
    }
   ],
   "source": [
    "sns.countplot(df['NUM_DEPENDENTS'], hue='purchased', data=df)\n",
    "plt.legend(loc='center left', bbox_to_anchor=(1, 0.9))"
   ]
  },
  {
   "cell_type": "code",
   "execution_count": 40,
   "id": "advisory-monkey",
   "metadata": {},
   "outputs": [
    {
     "data": {
      "text/html": [
       "<div>\n",
       "<style scoped>\n",
       "    .dataframe tbody tr th:only-of-type {\n",
       "        vertical-align: middle;\n",
       "    }\n",
       "\n",
       "    .dataframe tbody tr th {\n",
       "        vertical-align: top;\n",
       "    }\n",
       "\n",
       "    .dataframe thead th {\n",
       "        text-align: right;\n",
       "    }\n",
       "</style>\n",
       "<table border=\"1\" class=\"dataframe\">\n",
       "  <thead>\n",
       "    <tr style=\"text-align: right;\">\n",
       "      <th>NUM_DEPENDENTS</th>\n",
       "      <th>1</th>\n",
       "      <th>2</th>\n",
       "      <th>1percentage</th>\n",
       "      <th>2percentage</th>\n",
       "    </tr>\n",
       "    <tr>\n",
       "      <th>purchased</th>\n",
       "      <th></th>\n",
       "      <th></th>\n",
       "      <th></th>\n",
       "      <th></th>\n",
       "    </tr>\n",
       "  </thead>\n",
       "  <tbody>\n",
       "    <tr>\n",
       "      <th>answered and purchased</th>\n",
       "      <td>11584</td>\n",
       "      <td>2112</td>\n",
       "      <td>45.707071</td>\n",
       "      <td>50.769231</td>\n",
       "    </tr>\n",
       "    <tr>\n",
       "      <th>answered but not purchase</th>\n",
       "      <td>2304</td>\n",
       "      <td>128</td>\n",
       "      <td>9.090909</td>\n",
       "      <td>3.076923</td>\n",
       "    </tr>\n",
       "    <tr>\n",
       "      <th>not answer</th>\n",
       "      <td>11456</td>\n",
       "      <td>1920</td>\n",
       "      <td>45.202020</td>\n",
       "      <td>46.153846</td>\n",
       "    </tr>\n",
       "  </tbody>\n",
       "</table>\n",
       "</div>"
      ],
      "text/plain": [
       "NUM_DEPENDENTS                 1     2  1percentage  2percentage\n",
       "purchased                                                       \n",
       "answered and purchased     11584  2112    45.707071    50.769231\n",
       "answered but not purchase   2304   128     9.090909     3.076923\n",
       "not answer                 11456  1920    45.202020    46.153846"
      ]
     },
     "execution_count": 40,
     "metadata": {},
     "output_type": "execute_result"
    }
   ],
   "source": [
    "# The percentage\n",
    "dependent = pd.DataFrame(df.groupby(['purchased','NUM_DEPENDENTS']).count()['OBS.']).reset_index().pivot_table(values='OBS.', index='purchased',\n",
    "                                                                                         columns = 'NUM_DEPENDENTS')\n",
    "dependent['1percentage'] = dependent[1]/dependent[1].sum()*100\n",
    "dependent['2percentage'] = dependent[2]/dependent[2].sum()*100\n",
    "dependent"
   ]
  },
  {
   "cell_type": "markdown",
   "id": "american-kingdom",
   "metadata": {},
   "source": [
    "- Rent or own_residence"
   ]
  },
  {
   "cell_type": "code",
   "execution_count": 41,
   "id": "subtle-maximum",
   "metadata": {},
   "outputs": [
    {
     "data": {
      "text/plain": [
       "<matplotlib.legend.Legend at 0x1ef7d74d0c8>"
      ]
     },
     "execution_count": 41,
     "metadata": {},
     "output_type": "execute_result"
    },
    {
     "data": {
      "image/png": "[encoded data removed]",
      "text/plain": [
       "<Figure size 432x288 with 1 Axes>"
      ]
     },
     "metadata": {},
     "output_type": "display_data"
    }
   ],
   "source": [
    "sns.countplot(df['RENT'], hue='purchased', data=df)\n",
    "plt.legend(loc='center left', bbox_to_anchor=(1, 0.9))"
   ]
  },
  {
   "cell_type": "code",
   "execution_count": 42,
   "id": "informed-trace",
   "metadata": {},
   "outputs": [
    {
     "data": {
      "text/html": [
       "<div>\n",
       "<style scoped>\n",
       "    .dataframe tbody tr th:only-of-type {\n",
       "        vertical-align: middle;\n",
       "    }\n",
       "\n",
       "    .dataframe tbody tr th {\n",
       "        vertical-align: top;\n",
       "    }\n",
       "\n",
       "    .dataframe thead th {\n",
       "        text-align: right;\n",
       "    }\n",
       "</style>\n",
       "<table border=\"1\" class=\"dataframe\">\n",
       "  <thead>\n",
       "    <tr style=\"text-align: right;\">\n",
       "      <th>OWN_RES</th>\n",
       "      <th>0</th>\n",
       "      <th>1</th>\n",
       "      <th>%no_residence</th>\n",
       "      <th>%residence</th>\n",
       "    </tr>\n",
       "    <tr>\n",
       "      <th>purchased</th>\n",
       "      <th></th>\n",
       "      <th></th>\n",
       "      <th></th>\n",
       "      <th></th>\n",
       "    </tr>\n",
       "  </thead>\n",
       "  <tbody>\n",
       "    <tr>\n",
       "      <th>answered and purchased</th>\n",
       "      <td>4096</td>\n",
       "      <td>9600</td>\n",
       "      <td>43.537415</td>\n",
       "      <td>47.770701</td>\n",
       "    </tr>\n",
       "    <tr>\n",
       "      <th>answered but not purchase</th>\n",
       "      <td>256</td>\n",
       "      <td>2176</td>\n",
       "      <td>2.721088</td>\n",
       "      <td>10.828025</td>\n",
       "    </tr>\n",
       "    <tr>\n",
       "      <th>not answer</th>\n",
       "      <td>5056</td>\n",
       "      <td>8320</td>\n",
       "      <td>53.741497</td>\n",
       "      <td>41.401274</td>\n",
       "    </tr>\n",
       "  </tbody>\n",
       "</table>\n",
       "</div>"
      ],
      "text/plain": [
       "OWN_RES                       0     1  %no_residence  %residence\n",
       "purchased                                                       \n",
       "answered and purchased     4096  9600      43.537415   47.770701\n",
       "answered but not purchase   256  2176       2.721088   10.828025\n",
       "not answer                 5056  8320      53.741497   41.401274"
      ]
     },
     "execution_count": 42,
     "metadata": {},
     "output_type": "execute_result"
    }
   ],
   "source": [
    "# The percentage\n",
    "rent = pd.DataFrame(df.groupby(['purchased','OWN_RES']).count()['OBS.']).reset_index().pivot_table(values='OBS.', index='purchased',\n",
    "columns = 'OWN_RES')\n",
    "rent['%no_residence'] = rent[0]/rent[0].sum()*100\n",
    "rent['%residence'] = rent[1]/rent[1].sum()*100\n",
    "rent"
   ]
  },
  {
   "cell_type": "markdown",
   "id": "existing-sound",
   "metadata": {},
   "source": [
    "- Checking account/saving account"
   ]
  },
  {
   "cell_type": "code",
   "execution_count": 43,
   "id": "running-security",
   "metadata": {},
   "outputs": [
    {
     "data": {
      "text/plain": [
       "<matplotlib.legend.Legend at 0x1ef7d7c5948>"
      ]
     },
     "execution_count": 43,
     "metadata": {},
     "output_type": "execute_result"
    },
    {
     "data": {
      "image/png": "[encoded data removed]",
      "text/plain": [
       "<Figure size 432x288 with 1 Axes>"
      ]
     },
     "metadata": {},
     "output_type": "display_data"
    }
   ],
   "source": [
    "sns.countplot(df['CHK_ACCT'], hue='purchased', data=df)\n",
    "plt.legend(loc='center left', bbox_to_anchor=(1, 0.9))"
   ]
  },
  {
   "cell_type": "code",
   "execution_count": 44,
   "id": "underlying-addition",
   "metadata": {},
   "outputs": [
    {
     "data": {
      "text/html": [
       "<div>\n",
       "<style scoped>\n",
       "    .dataframe tbody tr th:only-of-type {\n",
       "        vertical-align: middle;\n",
       "    }\n",
       "\n",
       "    .dataframe tbody tr th {\n",
       "        vertical-align: top;\n",
       "    }\n",
       "\n",
       "    .dataframe thead th {\n",
       "        text-align: right;\n",
       "    }\n",
       "</style>\n",
       "<table border=\"1\" class=\"dataframe\">\n",
       "  <thead>\n",
       "    <tr style=\"text-align: right;\">\n",
       "      <th>CHK_ACCT</th>\n",
       "      <th>0</th>\n",
       "      <th>1</th>\n",
       "      <th>2</th>\n",
       "      <th>3</th>\n",
       "      <th>%no</th>\n",
       "      <th>%1</th>\n",
       "      <th>%2</th>\n",
       "      <th>%3</th>\n",
       "    </tr>\n",
       "    <tr>\n",
       "      <th>purchased</th>\n",
       "      <th></th>\n",
       "      <th></th>\n",
       "      <th></th>\n",
       "      <th></th>\n",
       "      <th></th>\n",
       "      <th></th>\n",
       "      <th></th>\n",
       "      <th></th>\n",
       "    </tr>\n",
       "  </thead>\n",
       "  <tbody>\n",
       "    <tr>\n",
       "      <th>answered and purchased</th>\n",
       "      <td>2880</td>\n",
       "      <td>2944</td>\n",
       "      <td>640</td>\n",
       "      <td>7232</td>\n",
       "      <td>33.834586</td>\n",
       "      <td>32.857143</td>\n",
       "      <td>37.037037</td>\n",
       "      <td>70.186335</td>\n",
       "    </tr>\n",
       "    <tr>\n",
       "      <th>answered but not purchase</th>\n",
       "      <td>448</td>\n",
       "      <td>832</td>\n",
       "      <td>256</td>\n",
       "      <td>896</td>\n",
       "      <td>5.263158</td>\n",
       "      <td>9.285714</td>\n",
       "      <td>14.814815</td>\n",
       "      <td>8.695652</td>\n",
       "    </tr>\n",
       "    <tr>\n",
       "      <th>not answer</th>\n",
       "      <td>5184</td>\n",
       "      <td>5184</td>\n",
       "      <td>832</td>\n",
       "      <td>2176</td>\n",
       "      <td>60.902256</td>\n",
       "      <td>57.857143</td>\n",
       "      <td>48.148148</td>\n",
       "      <td>21.118012</td>\n",
       "    </tr>\n",
       "  </tbody>\n",
       "</table>\n",
       "</div>"
      ],
      "text/plain": [
       "CHK_ACCT                      0     1    2     3        %no         %1  \\\n",
       "purchased                                                                \n",
       "answered and purchased     2880  2944  640  7232  33.834586  32.857143   \n",
       "answered but not purchase   448   832  256   896   5.263158   9.285714   \n",
       "not answer                 5184  5184  832  2176  60.902256  57.857143   \n",
       "\n",
       "CHK_ACCT                          %2         %3  \n",
       "purchased                                        \n",
       "answered and purchased     37.037037  70.186335  \n",
       "answered but not purchase  14.814815   8.695652  \n",
       "not answer                 48.148148  21.118012  "
      ]
     },
     "execution_count": 44,
     "metadata": {},
     "output_type": "execute_result"
    }
   ],
   "source": [
    "    # The percentage\n",
    "    chk_acc = pd.DataFrame(df.groupby(['purchased','CHK_ACCT']).count()['OBS.']).reset_index().pivot_table(values='OBS.', index='purchased',\n",
    "                                                                                                          columns = 'CHK_ACCT')\n",
    "    chk_acc['%no'] = chk_acc[0]/chk_acc[0].sum()*100\n",
    "    chk_acc['%1'] = chk_acc[1]/chk_acc[1].sum()*100\n",
    "    chk_acc['%2'] =chk_acc[2]/chk_acc[2].sum()*100\n",
    "    chk_acc['%3'] = chk_acc[3]/chk_acc[3].sum()*100\n",
    "    chk_acc"
   ]
  },
  {
   "cell_type": "code",
   "execution_count": 45,
   "id": "annoying-nylon",
   "metadata": {},
   "outputs": [
    {
     "data": {
      "text/plain": [
       "<matplotlib.legend.Legend at 0x1ef7d79c208>"
      ]
     },
     "execution_count": 45,
     "metadata": {},
     "output_type": "execute_result"
    },
    {
     "data": {
      "image/png": "[encoded data removed]",
      "text/plain": [
       "<Figure size 432x288 with 1 Axes>"
      ]
     },
     "metadata": {},
     "output_type": "display_data"
    }
   ],
   "source": [
    "sns.countplot(df['SAV_ACCT'], hue='purchased', data=df)\n",
    "plt.legend(loc='center left', bbox_to_anchor=(1, 0.9))"
   ]
  },
  {
   "cell_type": "code",
   "execution_count": 46,
   "id": "chicken-drunk",
   "metadata": {},
   "outputs": [
    {
     "data": {
      "text/html": [
       "<div>\n",
       "<style scoped>\n",
       "    .dataframe tbody tr th:only-of-type {\n",
       "        vertical-align: middle;\n",
       "    }\n",
       "\n",
       "    .dataframe tbody tr th {\n",
       "        vertical-align: top;\n",
       "    }\n",
       "\n",
       "    .dataframe thead th {\n",
       "        text-align: right;\n",
       "    }\n",
       "</style>\n",
       "<table border=\"1\" class=\"dataframe\">\n",
       "  <thead>\n",
       "    <tr style=\"text-align: right;\">\n",
       "      <th>SAV_ACCT</th>\n",
       "      <th>0</th>\n",
       "      <th>1</th>\n",
       "      <th>2</th>\n",
       "      <th>3</th>\n",
       "      <th>4</th>\n",
       "      <th>%no</th>\n",
       "      <th>%1</th>\n",
       "      <th>%2</th>\n",
       "      <th>%3</th>\n",
       "      <th>%4</th>\n",
       "    </tr>\n",
       "    <tr>\n",
       "      <th>purchased</th>\n",
       "      <th></th>\n",
       "      <th></th>\n",
       "      <th></th>\n",
       "      <th></th>\n",
       "      <th></th>\n",
       "      <th></th>\n",
       "      <th></th>\n",
       "      <th></th>\n",
       "      <th></th>\n",
       "      <th></th>\n",
       "    </tr>\n",
       "  </thead>\n",
       "  <tbody>\n",
       "    <tr>\n",
       "      <th>answered and purchased</th>\n",
       "      <td>7296</td>\n",
       "      <td>1472</td>\n",
       "      <td>1216</td>\n",
       "      <td>1024</td>\n",
       "      <td>2688</td>\n",
       "      <td>38.775510</td>\n",
       "      <td>46.0</td>\n",
       "      <td>70.370370</td>\n",
       "      <td>69.565217</td>\n",
       "      <td>62.686567</td>\n",
       "    </tr>\n",
       "    <tr>\n",
       "      <th>answered but not purchase</th>\n",
       "      <td>1856</td>\n",
       "      <td>128</td>\n",
       "      <td>64</td>\n",
       "      <td>192</td>\n",
       "      <td>192</td>\n",
       "      <td>9.863946</td>\n",
       "      <td>4.0</td>\n",
       "      <td>3.703704</td>\n",
       "      <td>13.043478</td>\n",
       "      <td>4.477612</td>\n",
       "    </tr>\n",
       "    <tr>\n",
       "      <th>not answer</th>\n",
       "      <td>9664</td>\n",
       "      <td>1600</td>\n",
       "      <td>448</td>\n",
       "      <td>256</td>\n",
       "      <td>1408</td>\n",
       "      <td>51.360544</td>\n",
       "      <td>50.0</td>\n",
       "      <td>25.925926</td>\n",
       "      <td>17.391304</td>\n",
       "      <td>32.835821</td>\n",
       "    </tr>\n",
       "  </tbody>\n",
       "</table>\n",
       "</div>"
      ],
      "text/plain": [
       "SAV_ACCT                      0     1     2     3     4        %no    %1  \\\n",
       "purchased                                                                  \n",
       "answered and purchased     7296  1472  1216  1024  2688  38.775510  46.0   \n",
       "answered but not purchase  1856   128    64   192   192   9.863946   4.0   \n",
       "not answer                 9664  1600   448   256  1408  51.360544  50.0   \n",
       "\n",
       "SAV_ACCT                          %2         %3         %4  \n",
       "purchased                                                   \n",
       "answered and purchased     70.370370  69.565217  62.686567  \n",
       "answered but not purchase   3.703704  13.043478   4.477612  \n",
       "not answer                 25.925926  17.391304  32.835821  "
      ]
     },
     "execution_count": 46,
     "metadata": {},
     "output_type": "execute_result"
    }
   ],
   "source": [
    "# The percentage\n",
    "sav_acc = pd.DataFrame(df.groupby(['purchased','SAV_ACCT']).count()['OBS.']).reset_index().pivot_table(values='OBS.', index='purchased',\n",
    "                                                                                                          columns = 'SAV_ACCT')\n",
    "sav_acc['%no'] = sav_acc[0]/sav_acc[0].sum()*100\n",
    "sav_acc['%1'] = sav_acc[1]/sav_acc[1].sum()*100\n",
    "sav_acc['%2'] =sav_acc[2]/sav_acc[2].sum()*100\n",
    "sav_acc['%3'] = sav_acc[3]/sav_acc[3].sum()*100\n",
    "sav_acc['%4'] = sav_acc[4]/sav_acc[4].sum()*100\n",
    "sav_acc"
   ]
  },
  {
   "cell_type": "markdown",
   "id": "consistent-compound",
   "metadata": {},
   "source": [
    "- Mobile"
   ]
  },
  {
   "cell_type": "code",
   "execution_count": 47,
   "id": "intimate-permit",
   "metadata": {},
   "outputs": [
    {
     "data": {
      "text/html": [
       "<div>\n",
       "<style scoped>\n",
       "    .dataframe tbody tr th:only-of-type {\n",
       "        vertical-align: middle;\n",
       "    }\n",
       "\n",
       "    .dataframe tbody tr th {\n",
       "        vertical-align: top;\n",
       "    }\n",
       "\n",
       "    .dataframe thead th {\n",
       "        text-align: right;\n",
       "    }\n",
       "</style>\n",
       "<table border=\"1\" class=\"dataframe\">\n",
       "  <thead>\n",
       "    <tr style=\"text-align: right;\">\n",
       "      <th>MOBILE</th>\n",
       "      <th>0</th>\n",
       "      <th>1</th>\n",
       "      <th>%no</th>\n",
       "      <th>%1</th>\n",
       "    </tr>\n",
       "    <tr>\n",
       "      <th>purchased</th>\n",
       "      <th></th>\n",
       "      <th></th>\n",
       "      <th></th>\n",
       "      <th></th>\n",
       "    </tr>\n",
       "  </thead>\n",
       "  <tbody>\n",
       "    <tr>\n",
       "      <th>answered and purchased</th>\n",
       "      <td>11968</td>\n",
       "      <td>1728</td>\n",
       "      <td>44.630072</td>\n",
       "      <td>64.285714</td>\n",
       "    </tr>\n",
       "    <tr>\n",
       "      <th>answered but not purchase</th>\n",
       "      <td>2176</td>\n",
       "      <td>256</td>\n",
       "      <td>8.114558</td>\n",
       "      <td>9.523810</td>\n",
       "    </tr>\n",
       "    <tr>\n",
       "      <th>not answer</th>\n",
       "      <td>12672</td>\n",
       "      <td>704</td>\n",
       "      <td>47.255370</td>\n",
       "      <td>26.190476</td>\n",
       "    </tr>\n",
       "  </tbody>\n",
       "</table>\n",
       "</div>"
      ],
      "text/plain": [
       "MOBILE                         0     1        %no         %1\n",
       "purchased                                                   \n",
       "answered and purchased     11968  1728  44.630072  64.285714\n",
       "answered but not purchase   2176   256   8.114558   9.523810\n",
       "not answer                 12672   704  47.255370  26.190476"
      ]
     },
     "execution_count": 47,
     "metadata": {},
     "output_type": "execute_result"
    }
   ],
   "source": [
    "# The percentage\n",
    "mobile = pd.DataFrame(df.groupby(['purchased','MOBILE']).count()['OBS.']).reset_index().pivot_table(values='OBS.', index='purchased',\n",
    "                                                                                                          columns = 'MOBILE')\n",
    "mobile['%no'] = mobile[0]/mobile[0].sum()*100\n",
    "mobile['%1'] = mobile[1]/mobile[1].sum()*100\n",
    "mobile"
   ]
  },
  {
   "cell_type": "markdown",
   "id": "speaking-evening",
   "metadata": {},
   "source": [
    "- Creating randomly 700 "
   ]
  },
  {
   "cell_type": "code",
   "execution_count": 57,
   "id": "after-setup",
   "metadata": {},
   "outputs": [],
   "source": [
    "random = pd.DataFrame(np.random.randint(10,15,540))"
   ]
  },
  {
   "cell_type": "code",
   "execution_count": 58,
   "id": "expensive-stupid",
   "metadata": {},
   "outputs": [],
   "source": [
    "random.to_excel('ramdom2.xlsx')"
   ]
  }
 ],
 "metadata": {
  "kernelspec": {
   "display_name": "Python 3",
   "language": "python",
   "name": "python3"
  },
  "language_info": {
   "codemirror_mode": {
    "name": "ipython",
    "version": 3
   },
   "file_extension": ".py",
   "mimetype": "text/x-python",
   "name": "python",
   "nbconvert_exporter": "python",
   "pygments_lexer": "ipython3",
   "version": "3.7.9"
  }
 },
 "nbformat": 4,
 "nbformat_minor": 5
}
